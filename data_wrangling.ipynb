{
 "cells": [
  {
   "cell_type": "code",
   "execution_count": 2,
   "metadata": {},
   "outputs": [],
   "source": [
    "import pandas as pd \n"
   ]
  },
  {
   "cell_type": "code",
   "execution_count": 9,
   "metadata": {},
   "outputs": [
    {
     "data": {
      "text/plain": [
       "Index(['Name', 'Address', 'Latitude', 'Longitude', 'Opening Hours', 'Rating',\n",
       "       'User Ratings', 'Phone', 'Website', 'Google Maps URL', 'Photo URL',\n",
       "       'Review Author', 'Review Rating', 'Review Time', 'Review Text'],\n",
       "      dtype='object')"
      ]
     },
     "execution_count": 9,
     "metadata": {},
     "output_type": "execute_result"
    }
   ],
   "source": [
    "df = pd.read_csv(\"data/la_coffee_shops_100_2.csv\")\n",
    "df.columns"
   ]
  },
  {
   "cell_type": "code",
   "execution_count": 10,
   "metadata": {},
   "outputs": [
    {
     "name": "stderr",
     "output_type": "stream",
     "text": [
      "/var/folders/_2/w4r9nfgd2lv2542fjtk65l1h0000gn/T/ipykernel_62581/2085919428.py:8: DeprecationWarning: DataFrameGroupBy.apply operated on the grouping columns. This behavior is deprecated, and in a future version of pandas the grouping columns will be excluded from the operation. Either pass `include_groups=False` to exclude the groupings or explicitly select the grouping columns after groupby to silence this warning.\n",
      "  review_texts_df = df.groupby(group_cols).apply(combine_review_texts).reset_index(name=\"Combined Review Text\")\n"
     ]
    },
    {
     "data": {
      "text/html": [
       "<div>\n",
       "<style scoped>\n",
       "    .dataframe tbody tr th:only-of-type {\n",
       "        vertical-align: middle;\n",
       "    }\n",
       "\n",
       "    .dataframe tbody tr th {\n",
       "        vertical-align: top;\n",
       "    }\n",
       "\n",
       "    .dataframe thead th {\n",
       "        text-align: right;\n",
       "    }\n",
       "</style>\n",
       "<table border=\"1\" class=\"dataframe\">\n",
       "  <thead>\n",
       "    <tr style=\"text-align: right;\">\n",
       "      <th></th>\n",
       "      <th>Name</th>\n",
       "      <th>Address</th>\n",
       "      <th>Latitude</th>\n",
       "      <th>Longitude</th>\n",
       "      <th>Opening Hours</th>\n",
       "      <th>Rating</th>\n",
       "      <th>Phone</th>\n",
       "      <th>Website</th>\n",
       "      <th>Google Maps URL</th>\n",
       "      <th>Photo URL</th>\n",
       "      <th>Combined Review Text</th>\n",
       "    </tr>\n",
       "  </thead>\n",
       "  <tbody>\n",
       "    <tr>\n",
       "      <th>0</th>\n",
       "      <td>Alfred Coffee</td>\n",
       "      <td>1154 Westwood Blvd, Los Angeles, CA 90024, USA</td>\n",
       "      <td>34.059848</td>\n",
       "      <td>-118.444527</td>\n",
       "      <td>['Monday: 7:00\\u202fAM\\u2009–\\u20096:00\\u202fP...</td>\n",
       "      <td>3.7</td>\n",
       "      <td>(424) 404-1700</td>\n",
       "      <td>https://alfred.la/</td>\n",
       "      <td>https://maps.google.com/?cid=5128443951280843048</td>\n",
       "      <td>https://maps.googleapis.com/maps/api/place/pho...</td>\n",
       "      <td>We got four drinks and a cinnamon croissant, w...</td>\n",
       "    </tr>\n",
       "    <tr>\n",
       "      <th>1</th>\n",
       "      <td>Alfred Coffee</td>\n",
       "      <td>11908 San Vicente Blvd, Los Angeles, CA 90049,...</td>\n",
       "      <td>34.052369</td>\n",
       "      <td>-118.470634</td>\n",
       "      <td>['Monday: 6:00\\u202fAM\\u2009–\\u20096:00\\u202fP...</td>\n",
       "      <td>4.2</td>\n",
       "      <td>(310) 340-0094</td>\n",
       "      <td>https://alfred.la/</td>\n",
       "      <td>https://maps.google.com/?cid=10734249255970828440</td>\n",
       "      <td>https://maps.googleapis.com/maps/api/place/pho...</td>\n",
       "      <td>I usually like their coffee and they make it n...</td>\n",
       "    </tr>\n",
       "    <tr>\n",
       "      <th>2</th>\n",
       "      <td>Alfred Coffee</td>\n",
       "      <td>490 N Beverly Dr, Beverly Hills, CA 90210, USA</td>\n",
       "      <td>34.071632</td>\n",
       "      <td>-118.403356</td>\n",
       "      <td>['Monday: 7:00\\u202fAM\\u2009–\\u20096:00\\u202fP...</td>\n",
       "      <td>4.1</td>\n",
       "      <td>(424) 346-6200</td>\n",
       "      <td>https://alfred.la/</td>\n",
       "      <td>https://maps.google.com/?cid=4708249339208865294</td>\n",
       "      <td>https://maps.googleapis.com/maps/api/place/pho...</td>\n",
       "      <td>Alfred's Café in Beverly Hills is a stylish, c...</td>\n",
       "    </tr>\n",
       "    <tr>\n",
       "      <th>3</th>\n",
       "      <td>Blue Bottle Coffee</td>\n",
       "      <td>10250 Santa Monica Blvd #1765, Los Angeles, CA...</td>\n",
       "      <td>34.059368</td>\n",
       "      <td>-118.419876</td>\n",
       "      <td>['Monday: 7:00\\u202fAM\\u2009–\\u20098:00\\u202fP...</td>\n",
       "      <td>4.4</td>\n",
       "      <td>(510) 661-3510</td>\n",
       "      <td>https://bluebottlecoffee.com/cafes</td>\n",
       "      <td>https://maps.google.com/?cid=1406120690807175331</td>\n",
       "      <td>https://maps.googleapis.com/maps/api/place/pho...</td>\n",
       "      <td>Blue bottle is one of the very good coffee cha...</td>\n",
       "    </tr>\n",
       "    <tr>\n",
       "      <th>4</th>\n",
       "      <td>Blue Bottle Coffee</td>\n",
       "      <td>132 S Beverly Dr, Beverly Hills, CA 90212, USA</td>\n",
       "      <td>34.065835</td>\n",
       "      <td>-118.398791</td>\n",
       "      <td>['Monday: 6:00\\u202fAM\\u2009–\\u20095:00\\u202fP...</td>\n",
       "      <td>4.5</td>\n",
       "      <td>(510) 661-3510</td>\n",
       "      <td>https://bluebottlecoffee.com/</td>\n",
       "      <td>https://maps.google.com/?cid=14027266785147604998</td>\n",
       "      <td>https://maps.googleapis.com/maps/api/place/pho...</td>\n",
       "      <td>I like the coffee there but…BE AWARE that they...</td>\n",
       "    </tr>\n",
       "  </tbody>\n",
       "</table>\n",
       "</div>"
      ],
      "text/plain": [
       "                 Name                                            Address  \\\n",
       "0       Alfred Coffee     1154 Westwood Blvd, Los Angeles, CA 90024, USA   \n",
       "1       Alfred Coffee  11908 San Vicente Blvd, Los Angeles, CA 90049,...   \n",
       "2       Alfred Coffee     490 N Beverly Dr, Beverly Hills, CA 90210, USA   \n",
       "3  Blue Bottle Coffee  10250 Santa Monica Blvd #1765, Los Angeles, CA...   \n",
       "4  Blue Bottle Coffee     132 S Beverly Dr, Beverly Hills, CA 90212, USA   \n",
       "\n",
       "    Latitude   Longitude                                      Opening Hours  \\\n",
       "0  34.059848 -118.444527  ['Monday: 7:00\\u202fAM\\u2009–\\u20096:00\\u202fP...   \n",
       "1  34.052369 -118.470634  ['Monday: 6:00\\u202fAM\\u2009–\\u20096:00\\u202fP...   \n",
       "2  34.071632 -118.403356  ['Monday: 7:00\\u202fAM\\u2009–\\u20096:00\\u202fP...   \n",
       "3  34.059368 -118.419876  ['Monday: 7:00\\u202fAM\\u2009–\\u20098:00\\u202fP...   \n",
       "4  34.065835 -118.398791  ['Monday: 6:00\\u202fAM\\u2009–\\u20095:00\\u202fP...   \n",
       "\n",
       "   Rating           Phone                             Website  \\\n",
       "0     3.7  (424) 404-1700                  https://alfred.la/   \n",
       "1     4.2  (310) 340-0094                  https://alfred.la/   \n",
       "2     4.1  (424) 346-6200                  https://alfred.la/   \n",
       "3     4.4  (510) 661-3510  https://bluebottlecoffee.com/cafes   \n",
       "4     4.5  (510) 661-3510       https://bluebottlecoffee.com/   \n",
       "\n",
       "                                     Google Maps URL  \\\n",
       "0   https://maps.google.com/?cid=5128443951280843048   \n",
       "1  https://maps.google.com/?cid=10734249255970828440   \n",
       "2   https://maps.google.com/?cid=4708249339208865294   \n",
       "3   https://maps.google.com/?cid=1406120690807175331   \n",
       "4  https://maps.google.com/?cid=14027266785147604998   \n",
       "\n",
       "                                           Photo URL  \\\n",
       "0  https://maps.googleapis.com/maps/api/place/pho...   \n",
       "1  https://maps.googleapis.com/maps/api/place/pho...   \n",
       "2  https://maps.googleapis.com/maps/api/place/pho...   \n",
       "3  https://maps.googleapis.com/maps/api/place/pho...   \n",
       "4  https://maps.googleapis.com/maps/api/place/pho...   \n",
       "\n",
       "                                Combined Review Text  \n",
       "0  We got four drinks and a cinnamon croissant, w...  \n",
       "1  I usually like their coffee and they make it n...  \n",
       "2  Alfred's Café in Beverly Hills is a stylish, c...  \n",
       "3  Blue bottle is one of the very good coffee cha...  \n",
       "4  I like the coffee there but…BE AWARE that they...  "
      ]
     },
     "execution_count": 10,
     "metadata": {},
     "output_type": "execute_result"
    }
   ],
   "source": [
    "# Combine only the review text for each coffee shop\n",
    "def combine_review_texts(group):\n",
    "    return \"\\n\\n\".join(group[\"Review Text\"].dropna())\n",
    "\n",
    "# Apply grouping and combine only the review text\n",
    "group_cols = ['Name', 'Address', 'Latitude', 'Longitude', 'Opening Hours', 'Rating',\n",
    "        'Phone', 'Website', 'Google Maps URL', 'Photo URL']\n",
    "review_texts_df = df.groupby(group_cols).apply(combine_review_texts).reset_index(name=\"Combined Review Text\")\n",
    "\n",
    "review_texts_df.head()"
   ]
  },
  {
   "cell_type": "code",
   "execution_count": 12,
   "metadata": {},
   "outputs": [],
   "source": [
    "review_texts_df.to_csv(\"updated_coffee_shops.csv\")\n"
   ]
  }
 ],
 "metadata": {
  "kernelspec": {
   "display_name": "venv",
   "language": "python",
   "name": "python3"
  },
  "language_info": {
   "codemirror_mode": {
    "name": "ipython",
    "version": 3
   },
   "file_extension": ".py",
   "mimetype": "text/x-python",
   "name": "python",
   "nbconvert_exporter": "python",
   "pygments_lexer": "ipython3",
   "version": "3.13.3"
  }
 },
 "nbformat": 4,
 "nbformat_minor": 2
}
